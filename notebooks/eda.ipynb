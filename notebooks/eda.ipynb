{
 "cells": [
  {
   "cell_type": "markdown",
   "metadata": {},
   "source": [
    "# EDA Notebook"
   ]
  },
  {
   "cell_type": "code",
   "execution_count": null,
   "metadata": {},
   "outputs": [],
   "source": [
    "import json
",
    "import pandas as pd
",
    "with open('../data/BiztelAI_DS_Dataset_V1.json') as f:
",
    "    data = json.load(f)
",
    "df = pd.json_normalize(data).T
",
    "df.head()"
   ]
  }
 ],
 "metadata": {},
 "nbformat": 4,
 "nbformat_minor": 2
}